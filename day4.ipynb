{
  "nbformat": 4,
  "nbformat_minor": 0,
  "metadata": {
    "colab": {
      "name": "day4.ipynb",
      "provenance": [],
      "collapsed_sections": [],
      "mount_file_id": "1PPOnM9e9a-aXMW5K39d3gXySTytGdAnh",
      "authorship_tag": "ABX9TyMgbhIf0lSMl4thIUNBpec2",
      "include_colab_link": true
    },
    "kernelspec": {
      "name": "python3",
      "display_name": "Python 3"
    },
    "accelerator": "GPU"
  },
  "cells": [
    {
      "cell_type": "markdown",
      "metadata": {
        "id": "view-in-github",
        "colab_type": "text"
      },
      "source": [
        "<a href=\"https://colab.research.google.com/github/jsekiewicz/dw_matrix_road_sign/blob/master/day4.ipynb\" target=\"_parent\"><img src=\"https://colab.research.google.com/assets/colab-badge.svg\" alt=\"Open In Colab\"/></a>"
      ]
    },
    {
      "cell_type": "code",
      "metadata": {
        "id": "Zk4m4HXWeKK6",
        "colab_type": "code",
        "outputId": "6489c7fd-dc16-4466-a0ce-1406dc82107b",
        "colab": {
          "base_uri": "https://localhost:8080/",
          "height": 50
        }
      },
      "source": [
        "import pandas as pd\n",
        "import numpy as np\n",
        "\n",
        "import os\n",
        "import datetime\n",
        "\n",
        "import tensorflow as tf\n",
        "from tensorflow.keras.models import Sequential\n",
        "from tensorflow.keras.layers import Conv2D, MaxPool2D, Dense, Flatten, Dropout\n",
        "from tensorflow.keras.utils import to_categorical\n",
        "\n",
        "%load_ext tensorboard\n",
        "\n",
        "import matplotlib.pyplot as plt\n",
        "from skimage import color, exposure\n",
        "\n",
        "from sklearn.metrics import accuracy_score"
      ],
      "execution_count": 18,
      "outputs": [
        {
          "output_type": "stream",
          "text": [
            "The tensorboard extension is already loaded. To reload it, use:\n",
            "  %reload_ext tensorboard\n"
          ],
          "name": "stdout"
        }
      ]
    },
    {
      "cell_type": "code",
      "metadata": {
        "id": "x-0tcBWlfDQf",
        "colab_type": "code",
        "outputId": "26ac1cfe-911a-4200-8643-f888b35e6663",
        "colab": {
          "base_uri": "https://localhost:8080/",
          "height": 34
        }
      },
      "source": [
        "cd '/content/drive/My Drive/Colab Notebooks/dw_matrix/matrix_three/dw_matrix_road_sign'"
      ],
      "execution_count": 2,
      "outputs": [
        {
          "output_type": "stream",
          "text": [
            "/content/drive/My Drive/Colab Notebooks/dw_matrix/matrix_three/dw_matrix_road_sign\n"
          ],
          "name": "stdout"
        }
      ]
    },
    {
      "cell_type": "code",
      "metadata": {
        "id": "wGpAoZdCfOv3",
        "colab_type": "code",
        "colab": {}
      },
      "source": [
        "train = pd.read_pickle('data/train.p')\n",
        "test = pd.read_pickle('data/test.p')\n",
        "\n",
        "X_train, y_train = train['features'], train['labels']\n",
        "X_test, y_test = test['features'], test['labels']"
      ],
      "execution_count": 0,
      "outputs": []
    },
    {
      "cell_type": "code",
      "metadata": {
        "id": "DzSLTsjTfZ7J",
        "colab_type": "code",
        "colab": {}
      },
      "source": [
        "if y_train.ndim == 1: y_train = to_categorical(y_train)\n",
        "if y_test.ndim == 1: y_test = to_categorical(y_test)"
      ],
      "execution_count": 0,
      "outputs": []
    },
    {
      "cell_type": "code",
      "metadata": {
        "id": "KQHLEt4GhSRL",
        "colab_type": "code",
        "colab": {}
      },
      "source": [
        "input_shape = X_train.shape[1:]\n",
        "num_classes = y_train.shape[1]"
      ],
      "execution_count": 0,
      "outputs": []
    },
    {
      "cell_type": "code",
      "metadata": {
        "id": "8FKVguOo5Oaq",
        "colab_type": "code",
        "colab": {}
      },
      "source": [
        "df = pd.read_csv('data/signnames.csv')\n",
        "labels_dict = df.to_dict()['b']"
      ],
      "execution_count": 0,
      "outputs": []
    },
    {
      "cell_type": "code",
      "metadata": {
        "id": "TlKuSAmEgP4x",
        "colab_type": "code",
        "outputId": "d709351b-5f31-4d40-d452-f882e263c3c4",
        "colab": {
          "base_uri": "https://localhost:8080/",
          "height": 50
        }
      },
      "source": [
        "model = Sequential([\n",
        "  Conv2D(filters=64, kernel_size =(3,3), activation='relu', input_shape=input_shape),\n",
        "\n",
        "  Flatten(),\n",
        "\n",
        "  Dense(num_classes, activation = 'softmax')                    \n",
        "])\n",
        "#model.summary()\n",
        "\n",
        "model.compile(loss='categorical_crossentropy', optimizer='Adam', metrics=['accuracy'])\n",
        "model.fit(X_train, y_train)"
      ],
      "execution_count": 6,
      "outputs": [
        {
          "output_type": "stream",
          "text": [
            "1088/1088 [==============================] - 4s 3ms/step - loss: 5.3740 - accuracy: 0.7778\n"
          ],
          "name": "stdout"
        },
        {
          "output_type": "execute_result",
          "data": {
            "text/plain": [
              "<tensorflow.python.keras.callbacks.History at 0x7f3d3013d780>"
            ]
          },
          "metadata": {
            "tags": []
          },
          "execution_count": 6
        }
      ]
    },
    {
      "cell_type": "code",
      "metadata": {
        "id": "4ahogwzHh6GI",
        "colab_type": "code",
        "colab": {}
      },
      "source": [
        "def get_cnn_v1(input_shape, num_classes):\n",
        "  return Sequential([\n",
        "    Conv2D(filters=64, kernel_size =(3,3), activation='relu', input_shape=input_shape),\n",
        "\n",
        "    Flatten(),\n",
        "\n",
        "    Dense(num_classes, activation = 'softmax')                    \n",
        "  ])\n",
        "\n",
        "def train_model(model, X_train,y_train, params_fit={}):\n",
        "  model.compile(loss='categorical_crossentropy', optimizer='Adam', metrics=['accuracy'])\n",
        "  \n",
        "  logdir = os.path.join('logs', datetime.datetime.now().strftime('%Y%m%d-%H%M%S'))\n",
        "  tensorboard_callback = tf.keras.callbacks.TensorBoard(logdir, histogram_freq=1)\n",
        "\n",
        "  model.fit(\n",
        "      X_train, \n",
        "      y_train,\n",
        "      batch_size=params_fit.get('batch_size', 128),\n",
        "      epochs=params_fit.get('epochs',5),\n",
        "      verbose=params_fit.get('verbose',1),\n",
        "      validation_data=params_fit.get('validation_data', (X_train,y_train)),\n",
        "      callbacks=[tensorboard_callback]\n",
        "  )\n",
        "  return model"
      ],
      "execution_count": 0,
      "outputs": []
    },
    {
      "cell_type": "code",
      "metadata": {
        "id": "orIitRqgjrOP",
        "colab_type": "code",
        "outputId": "d382ba87-aef3-4447-9795-e7fad7b67950",
        "colab": {
          "base_uri": "https://localhost:8080/",
          "height": 185
        }
      },
      "source": [
        "model = get_cnn_v1(input_shape, num_classes)\n",
        "model_trained = train_model(model, X_train,y_train)"
      ],
      "execution_count": 8,
      "outputs": [
        {
          "output_type": "stream",
          "text": [
            "Epoch 1/5\n",
            "272/272 [==============================] - 3s 12ms/step - loss: 16.7170 - accuracy: 0.7635 - val_loss: 0.2080 - val_accuracy: 0.9491\n",
            "Epoch 2/5\n",
            "272/272 [==============================] - 3s 11ms/step - loss: 0.2085 - accuracy: 0.9513 - val_loss: 0.1544 - val_accuracy: 0.9684\n",
            "Epoch 3/5\n",
            "272/272 [==============================] - 3s 11ms/step - loss: 0.1351 - accuracy: 0.9694 - val_loss: 0.1028 - val_accuracy: 0.9782\n",
            "Epoch 4/5\n",
            "272/272 [==============================] - 3s 11ms/step - loss: 0.1030 - accuracy: 0.9768 - val_loss: 0.0953 - val_accuracy: 0.9753\n",
            "Epoch 5/5\n",
            "272/272 [==============================] - 3s 10ms/step - loss: 0.0763 - accuracy: 0.9831 - val_loss: 0.0500 - val_accuracy: 0.9885\n"
          ],
          "name": "stdout"
        }
      ]
    },
    {
      "cell_type": "code",
      "metadata": {
        "id": "FzRL1wu45Oz8",
        "colab_type": "code",
        "colab": {
          "base_uri": "https://localhost:8080/",
          "height": 283
        },
        "outputId": "cae59cd6-b6c5-442e-8af8-9539c16f030f"
      },
      "source": [
        "plt.imshow(X_test[400])"
      ],
      "execution_count": 12,
      "outputs": [
        {
          "output_type": "execute_result",
          "data": {
            "text/plain": [
              "<matplotlib.image.AxesImage at 0x7f3d1c40ff60>"
            ]
          },
          "metadata": {
            "tags": []
          },
          "execution_count": 12
        },
        {
          "output_type": "display_data",
          "data": {
            "image/png": "[encoded data removed]",
            "text/plain": [
              "<Figure size 432x288 with 1 Axes>"
            ]
          },
          "metadata": {
            "tags": []
          }
        }
      ]
    },
    {
      "cell_type": "code",
      "metadata": {
        "id": "BNd8AOHO6b4T",
        "colab_type": "code",
        "colab": {
          "base_uri": "https://localhost:8080/",
          "height": 34
        },
        "outputId": "7fa2b49b-edaa-4347-8f29-a32f65d07bbb"
      },
      "source": [
        "labels_dict[ np.argmax(y_pred_prob[400]) ]"
      ],
      "execution_count": 15,
      "outputs": [
        {
          "output_type": "execute_result",
          "data": {
            "text/plain": [
              "'Speed limit (30km/h)'"
            ]
          },
          "metadata": {
            "tags": []
          },
          "execution_count": 15
        }
      ]
    },
    {
      "cell_type": "code",
      "metadata": {
        "id": "EKzdTok96cZj",
        "colab_type": "code",
        "colab": {
          "base_uri": "https://localhost:8080/",
          "height": 282
        },
        "outputId": "903892c6-38a6-4304-b159-95d3fd786492"
      },
      "source": [
        "plt.bar(range(43), y_pred_prob[400])"
      ],
      "execution_count": 17,
      "outputs": [
        {
          "output_type": "execute_result",
          "data": {
            "text/plain": [
              "<BarContainer object of 43 artists>"
            ]
          },
          "metadata": {
            "tags": []
          },
          "execution_count": 17
        },
        {
          "output_type": "display_data",
          "data": {
            "image/png": "[encoded data removed]",
            "text/plain": [
              "<Figure size 432x288 with 1 Axes>"
            ]
          },
          "metadata": {
            "tags": []
          }
        }
      ]
    },
    {
      "cell_type": "code",
      "metadata": {
        "id": "HwSSyHkY5PO1",
        "colab_type": "code",
        "colab": {}
      },
      "source": [
        "def predict(model_trained, X_test, y_test, scoring = accuracy_score):\n",
        "\n",
        "  y_test_norm = np.argmax(y_test, axis = 1)\n",
        "\n",
        "  y_pred_prob = model_trained.predict(X_test)\n",
        "  y_pred = np.argmax(y_pred_prob, axis = 1)\n",
        "\n",
        "  return scoring(y_test_norm,y_pred)"
      ],
      "execution_count": 0,
      "outputs": []
    },
    {
      "cell_type": "code",
      "metadata": {
        "id": "M9CKcCIH6csT",
        "colab_type": "code",
        "colab": {
          "base_uri": "https://localhost:8080/",
          "height": 34
        },
        "outputId": "013c61af-8ea8-4a34-da56-3acda54e2538"
      },
      "source": [
        "predict(model_trained, X_test, y_test)"
      ],
      "execution_count": 24,
      "outputs": [
        {
          "output_type": "execute_result",
          "data": {
            "text/plain": [
              "0.8251700680272109"
            ]
          },
          "metadata": {
            "tags": []
          },
          "execution_count": 24
        }
      ]
    },
    {
      "cell_type": "code",
      "metadata": {
        "id": "cVcoaoAD9wug",
        "colab_type": "code",
        "colab": {}
      },
      "source": [
        "def train_and_predict(model):\n",
        "  model_trained = train_model(model, X_train,y_train)\n",
        "  return predict(model_trained, X_test, y_test)"
      ],
      "execution_count": 0,
      "outputs": []
    },
    {
      "cell_type": "code",
      "metadata": {
        "id": "1w7m_Ogq9wcy",
        "colab_type": "code",
        "colab": {}
      },
      "source": [
        "def get_cnn_v2(input_shape, num_classes):\n",
        "  return Sequential([\n",
        "    Conv2D(filters=32, kernel_size =(3,3), activation='relu', input_shape=input_shape),\n",
        "    MaxPool2D(),\n",
        "    Dropout(0.3),\n",
        "\n",
        "    Conv2D(filters=64, kernel_size =(3,3), activation='relu'),\n",
        "    MaxPool2D(),\n",
        "    Dropout(0.3),    \n",
        "    \n",
        "    Flatten(),\n",
        "\n",
        "    Dense(1024, activation = 'relu'),\n",
        "    Dropout(0.3),\n",
        "\n",
        "    Dense(num_classes, activation = 'softmax')                    \n",
        "  ])\n"
      ],
      "execution_count": 0,
      "outputs": []
    },
    {
      "cell_type": "code",
      "metadata": {
        "id": "l_R190G59wDJ",
        "colab_type": "code",
        "colab": {
          "base_uri": "https://localhost:8080/",
          "height": 202
        },
        "outputId": "02b21bfc-b1d6-47a6-df21-701525e02db9"
      },
      "source": [
        "train_and_predict( get_cnn_v2(input_shape, num_classes) )"
      ],
      "execution_count": 29,
      "outputs": [
        {
          "output_type": "stream",
          "text": [
            "Epoch 1/5\n",
            "272/272 [==============================] - 3s 11ms/step - loss: 5.0050 - accuracy: 0.3707 - val_loss: 0.9785 - val_accuracy: 0.7682\n",
            "Epoch 2/5\n",
            "272/272 [==============================] - 3s 10ms/step - loss: 0.9148 - accuracy: 0.7300 - val_loss: 0.2853 - val_accuracy: 0.9360\n",
            "Epoch 3/5\n",
            "272/272 [==============================] - 3s 11ms/step - loss: 0.5114 - accuracy: 0.8474 - val_loss: 0.1467 - val_accuracy: 0.9654\n",
            "Epoch 4/5\n",
            "272/272 [==============================] - 3s 10ms/step - loss: 0.3630 - accuracy: 0.8904 - val_loss: 0.0958 - val_accuracy: 0.9825\n",
            "Epoch 5/5\n",
            "272/272 [==============================] - 3s 11ms/step - loss: 0.2786 - accuracy: 0.9159 - val_loss: 0.0531 - val_accuracy: 0.9886\n"
          ],
          "name": "stdout"
        },
        {
          "output_type": "execute_result",
          "data": {
            "text/plain": [
              "0.9208616780045351"
            ]
          },
          "metadata": {
            "tags": []
          },
          "execution_count": 29
        }
      ]
    },
    {
      "cell_type": "code",
      "metadata": {
        "id": "6RnaimrT_W80",
        "colab_type": "code",
        "colab": {}
      },
      "source": [
        "def get_cnn_v3(input_shape, num_classes):\n",
        "  return Sequential([\n",
        "    Conv2D(filters=32, kernel_size =(3,3), activation='relu', input_shape=input_shape),\n",
        "    Conv2D(filters=32, kernel_size =(3,3), activation='relu', input_shape=input_shape),\n",
        "    MaxPool2D(),\n",
        "    Dropout(0.3),\n",
        "\n",
        "    Conv2D(filters=64, kernel_size =(3,3), activation='relu'),\n",
        "    Conv2D(filters=64, kernel_size =(3,3), activation='relu'),\n",
        "    MaxPool2D(),\n",
        "    Dropout(0.3),    \n",
        "    \n",
        "    Flatten(),\n",
        "\n",
        "    Dense(1024, activation = 'relu'),\n",
        "    Dropout(0.3),\n",
        "\n",
        "    Dense(num_classes, activation = 'softmax')                    \n",
        "  ])"
      ],
      "execution_count": 0,
      "outputs": []
    },
    {
      "cell_type": "code",
      "metadata": {
        "id": "m_WlzhFH_Wuj",
        "colab_type": "code",
        "colab": {
          "base_uri": "https://localhost:8080/",
          "height": 202
        },
        "outputId": "1c009c57-8b64-4a76-f7f1-acbfac7c610c"
      },
      "source": [
        "train_and_predict( get_cnn_v3(input_shape, num_classes) )"
      ],
      "execution_count": 31,
      "outputs": [
        {
          "output_type": "stream",
          "text": [
            "Epoch 1/5\n",
            "272/272 [==============================] - 4s 16ms/step - loss: 2.4444 - accuracy: 0.4877 - val_loss: 0.6568 - val_accuracy: 0.8766\n",
            "Epoch 2/5\n",
            "272/272 [==============================] - 4s 15ms/step - loss: 0.7095 - accuracy: 0.7902 - val_loss: 0.2770 - val_accuracy: 0.9448\n",
            "Epoch 3/5\n",
            "272/272 [==============================] - 4s 15ms/step - loss: 0.4301 - accuracy: 0.8673 - val_loss: 0.1289 - val_accuracy: 0.9755\n",
            "Epoch 4/5\n",
            "272/272 [==============================] - 4s 15ms/step - loss: 0.2960 - accuracy: 0.9090 - val_loss: 0.0787 - val_accuracy: 0.9852\n",
            "Epoch 5/5\n",
            "272/272 [==============================] - 4s 15ms/step - loss: 0.2255 - accuracy: 0.9297 - val_loss: 0.0537 - val_accuracy: 0.9889\n"
          ],
          "name": "stdout"
        },
        {
          "output_type": "execute_result",
          "data": {
            "text/plain": [
              "0.95578231292517"
            ]
          },
          "metadata": {
            "tags": []
          },
          "execution_count": 31
        }
      ]
    },
    {
      "cell_type": "code",
      "metadata": {
        "id": "LIsFZoFp_Wd7",
        "colab_type": "code",
        "colab": {
          "base_uri": "https://localhost:8080/",
          "height": 202
        },
        "outputId": "e7c9768b-fcbf-4836-e342-53dda6207204"
      },
      "source": [
        "def get_cnn_v4(input_shape, num_classes):\n",
        "  return Sequential([\n",
        "    Conv2D(filters=32, kernel_size =(3,3), activation='relu', input_shape=input_shape),\n",
        "    Conv2D(filters=32, kernel_size =(3,3), activation='relu', padding = 'same'),\n",
        "    MaxPool2D(),\n",
        "    Dropout(0.3),\n",
        "\n",
        "    Conv2D(filters=64, kernel_size =(3,3), activation='relu', padding = 'same'),\n",
        "    Conv2D(filters=64, kernel_size =(3,3), activation='relu'),\n",
        "    MaxPool2D(),\n",
        "    Dropout(0.3),    \n",
        "    \n",
        "    Conv2D(filters=64, kernel_size =(3,3), activation='relu', padding = 'same'),\n",
        "    Conv2D(filters=64, kernel_size =(3,3), activation='relu'),\n",
        "    MaxPool2D(),\n",
        "    Dropout(0.3),    \n",
        "\n",
        "    Flatten(),\n",
        "\n",
        "    Dense(1024, activation = 'relu'),\n",
        "    Dropout(0.3),\n",
        "\n",
        "    Dense(num_classes, activation = 'softmax')                    \n",
        "  ])\n",
        "  \n",
        "train_and_predict( get_cnn_v4(input_shape, num_classes) )"
      ],
      "execution_count": 32,
      "outputs": [
        {
          "output_type": "stream",
          "text": [
            "Epoch 1/5\n",
            "272/272 [==============================] - 5s 18ms/step - loss: 2.7337 - accuracy: 0.2667 - val_loss: 1.1994 - val_accuracy: 0.6198\n",
            "Epoch 2/5\n",
            "272/272 [==============================] - 5s 17ms/step - loss: 0.9301 - accuracy: 0.7028 - val_loss: 0.2112 - val_accuracy: 0.9351\n",
            "Epoch 3/5\n",
            "272/272 [==============================] - 5s 17ms/step - loss: 0.3783 - accuracy: 0.8832 - val_loss: 0.0783 - val_accuracy: 0.9772\n",
            "Epoch 4/5\n",
            "272/272 [==============================] - 5s 17ms/step - loss: 0.2368 - accuracy: 0.9297 - val_loss: 0.0559 - val_accuracy: 0.9841\n",
            "Epoch 5/5\n",
            "272/272 [==============================] - 5s 17ms/step - loss: 0.1779 - accuracy: 0.9481 - val_loss: 0.0311 - val_accuracy: 0.9926\n"
          ],
          "name": "stdout"
        },
        {
          "output_type": "execute_result",
          "data": {
            "text/plain": [
              "0.9621315192743765"
            ]
          },
          "metadata": {
            "tags": []
          },
          "execution_count": 32
        }
      ]
    },
    {
      "cell_type": "code",
      "metadata": {
        "id": "anog-0MMAo31",
        "colab_type": "code",
        "colab": {
          "base_uri": "https://localhost:8080/",
          "height": 202
        },
        "outputId": "9f523176-6954-43ed-db4c-82c2a01d9d88"
      },
      "source": [
        "def get_cnn_v5(input_shape, num_classes):\n",
        "  return Sequential([\n",
        "    Conv2D(filters=32, kernel_size =(3,3), activation='relu', input_shape=input_shape),\n",
        "    Conv2D(filters=32, kernel_size =(3,3), activation='relu', padding = 'same'),\n",
        "    MaxPool2D(),\n",
        "    Dropout(0.3),\n",
        "\n",
        "    Conv2D(filters=64, kernel_size =(3,3), activation='relu', padding = 'same'),\n",
        "    Conv2D(filters=64, kernel_size =(3,3), activation='relu'),\n",
        "    MaxPool2D(),\n",
        "    Dropout(0.3),    \n",
        "    \n",
        "    Conv2D(filters=64, kernel_size =(3,3), activation='relu', padding = 'same'),\n",
        "    Conv2D(filters=64, kernel_size =(3,3), activation='relu'),\n",
        "    MaxPool2D(),\n",
        "    Dropout(0.3),    \n",
        "\n",
        "    Flatten(),\n",
        "\n",
        "    Dense(1024, activation = 'relu'),\n",
        "    Dropout(0.3),\n",
        "\n",
        "    Dense(1024, activation = 'relu'),\n",
        "    Dropout(0.3),\n",
        "\n",
        "    Dense(num_classes, activation = 'softmax')                    \n",
        "  ])\n",
        "  \n",
        "train_and_predict( get_cnn_v5(input_shape, num_classes) )"
      ],
      "execution_count": 33,
      "outputs": [
        {
          "output_type": "stream",
          "text": [
            "Epoch 1/5\n",
            "272/272 [==============================] - 5s 19ms/step - loss: 2.5059 - accuracy: 0.3160 - val_loss: 0.7968 - val_accuracy: 0.7489\n",
            "Epoch 2/5\n",
            "272/272 [==============================] - 5s 18ms/step - loss: 0.7393 - accuracy: 0.7645 - val_loss: 0.2056 - val_accuracy: 0.9372\n",
            "Epoch 3/5\n",
            "272/272 [==============================] - 5s 18ms/step - loss: 0.3803 - accuracy: 0.8799 - val_loss: 0.1104 - val_accuracy: 0.9661\n",
            "Epoch 4/5\n",
            "272/272 [==============================] - 5s 18ms/step - loss: 0.2566 - accuracy: 0.9203 - val_loss: 0.0609 - val_accuracy: 0.9841\n",
            "Epoch 5/5\n",
            "272/272 [==============================] - 5s 18ms/step - loss: 0.2025 - accuracy: 0.9370 - val_loss: 0.0499 - val_accuracy: 0.9854\n"
          ],
          "name": "stdout"
        },
        {
          "output_type": "execute_result",
          "data": {
            "text/plain": [
              "0.9648526077097506"
            ]
          },
          "metadata": {
            "tags": []
          },
          "execution_count": 33
        }
      ]
    },
    {
      "cell_type": "code",
      "metadata": {
        "id": "M6Tw9RGFDd-E",
        "colab_type": "code",
        "colab": {
          "base_uri": "https://localhost:8080/",
          "height": 283
        },
        "outputId": "d69c1c09-62de-4c3e-f336-a3c291bc1af8"
      },
      "source": [
        "plt.imshow(color.rgb2gray(X_train[0]), cmap = plt.get_cmap('gray'))"
      ],
      "execution_count": 44,
      "outputs": [
        {
          "output_type": "execute_result",
          "data": {
            "text/plain": [
              "<matplotlib.image.AxesImage at 0x7f3cc49d7e10>"
            ]
          },
          "metadata": {
            "tags": []
          },
          "execution_count": 44
        },
        {
          "output_type": "display_data",
          "data": {
            "image/png": "[encoded data removed]",
            "text/plain": [
              "<Figure size 432x288 with 1 Axes>"
            ]
          },
          "metadata": {
            "tags": []
          }
        }
      ]
    },
    {
      "cell_type": "code",
      "metadata": {
        "id": "KKQSR5UeBtwd",
        "colab_type": "code",
        "colab": {}
      },
      "source": [
        "X_train_gray = color.rgb2gray(X_train).reshape(-1,32,32,1)\n",
        "X_test_gray = color.rgb2gray(X_test).reshape(-1,32,32,1)"
      ],
      "execution_count": 0,
      "outputs": []
    },
    {
      "cell_type": "code",
      "metadata": {
        "id": "yKei-KG9AooC",
        "colab_type": "code",
        "colab": {
          "base_uri": "https://localhost:8080/",
          "height": 202
        },
        "outputId": "22cbeffc-a47d-458e-848c-bb9a6ef85f40"
      },
      "source": [
        "model = get_cnn_v5((32,32,1), num_classes)\n",
        "model_trained = train_model(model, X_train_gray, y_train)\n",
        "predict(model_trained, X_test_gray, y_test)"
      ],
      "execution_count": 46,
      "outputs": [
        {
          "output_type": "stream",
          "text": [
            "Epoch 1/5\n",
            "272/272 [==============================] - 5s 18ms/step - loss: 2.8517 - accuracy: 0.2130 - val_loss: 0.8376 - val_accuracy: 0.7533\n",
            "Epoch 2/5\n",
            "272/272 [==============================] - 5s 18ms/step - loss: 0.5772 - accuracy: 0.8130 - val_loss: 0.1395 - val_accuracy: 0.9568\n",
            "Epoch 3/5\n",
            "272/272 [==============================] - 5s 17ms/step - loss: 0.2430 - accuracy: 0.9221 - val_loss: 0.0595 - val_accuracy: 0.9824\n",
            "Epoch 4/5\n",
            "272/272 [==============================] - 5s 18ms/step - loss: 0.1629 - accuracy: 0.9476 - val_loss: 0.0344 - val_accuracy: 0.9903\n",
            "Epoch 5/5\n",
            "272/272 [==============================] - 5s 17ms/step - loss: 0.1295 - accuracy: 0.9594 - val_loss: 0.0326 - val_accuracy: 0.9922\n"
          ],
          "name": "stdout"
        },
        {
          "output_type": "execute_result",
          "data": {
            "text/plain": [
              "0.9668934240362812"
            ]
          },
          "metadata": {
            "tags": []
          },
          "execution_count": 46
        }
      ]
    },
    {
      "cell_type": "code",
      "metadata": {
        "id": "CrkVeYVBAoWD",
        "colab_type": "code",
        "colab": {}
      },
      "source": [
        ""
      ],
      "execution_count": 0,
      "outputs": []
    },
    {
      "cell_type": "code",
      "metadata": {
        "id": "-H_9-qEW_WLo",
        "colab_type": "code",
        "colab": {}
      },
      "source": [
        ""
      ],
      "execution_count": 0,
      "outputs": []
    }
  ]
}