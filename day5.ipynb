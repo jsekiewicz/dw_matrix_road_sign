{
  "nbformat": 4,
  "nbformat_minor": 0,
  "metadata": {
    "colab": {
      "name": "day5.ipynb",
      "provenance": [],
      "collapsed_sections": [],
      "mount_file_id": "1HelF52nra7Qh9v8wozpKGHeLVatx0It9",
      "authorship_tag": "ABX9TyP2bPKzBW/5i7q48CS01m4H",
      "include_colab_link": true
    },
    "kernelspec": {
      "name": "python3",
      "display_name": "Python 3"
    },
    "accelerator": "GPU"
  },
  "cells": [
    {
      "cell_type": "markdown",
      "metadata": {
        "id": "view-in-github",
        "colab_type": "text"
      },
      "source": [
        "<a href=\"https://colab.research.google.com/github/jsekiewicz/dw_matrix_road_sign/blob/master/day5.ipynb\" target=\"_parent\"><img src=\"https://colab.research.google.com/assets/colab-badge.svg\" alt=\"Open In Colab\"/></a>"
      ]
    },
    {
      "cell_type": "code",
      "metadata": {
        "id": "7KfO-JCARNP-",
        "colab_type": "code",
        "outputId": "f3c409b2-8a6d-410b-f4c0-28835d97725f",
        "colab": {
          "base_uri": "https://localhost:8080/",
          "height": 53
        }
      },
      "source": [
        "import pandas as pd\n",
        "import numpy as np\n",
        "\n",
        "import os\n",
        "import datetime\n",
        "\n",
        "import tensorflow as tf\n",
        "from tensorflow.keras.models import Sequential\n",
        "from tensorflow.keras.layers import Conv2D, MaxPool2D, Dense, Flatten, Dropout\n",
        "from tensorflow.keras.utils import to_categorical\n",
        "\n",
        "%load_ext tensorboard\n",
        "\n",
        "import matplotlib.pyplot as plt\n",
        "from skimage import color, exposure\n",
        "\n",
        "from sklearn.metrics import accuracy_score\n",
        "\n",
        "from hyperopt import hp, STATUS_OK, tpe, Trials, fmin"
      ],
      "execution_count": 17,
      "outputs": [
        {
          "output_type": "stream",
          "text": [
            "The tensorboard extension is already loaded. To reload it, use:\n",
            "  %reload_ext tensorboard\n"
          ],
          "name": "stdout"
        }
      ]
    },
    {
      "cell_type": "code",
      "metadata": {
        "id": "vqHvQkJRRfZ-",
        "colab_type": "code",
        "outputId": "26103e17-7b68-4d06-b51e-925a088719cc",
        "colab": {
          "base_uri": "https://localhost:8080/",
          "height": 35
        }
      },
      "source": [
        "cd '/content/drive/My Drive/Colab Notebooks/dw_matrix/matrix_three/dw_matrix_road_sign'"
      ],
      "execution_count": 18,
      "outputs": [
        {
          "output_type": "stream",
          "text": [
            "/content/drive/My Drive/Colab Notebooks/dw_matrix/matrix_three/dw_matrix_road_sign\n"
          ],
          "name": "stdout"
        }
      ]
    },
    {
      "cell_type": "code",
      "metadata": {
        "id": "n1lCoE79Ryci",
        "colab_type": "code",
        "colab": {}
      },
      "source": [
        "train = pd.read_pickle('data/train.p')\n",
        "test = pd.read_pickle('data/test.p')\n",
        "\n",
        "X_train, y_train = train['features'], train['labels']\n",
        "X_test, y_test = test['features'], test['labels']"
      ],
      "execution_count": 0,
      "outputs": []
    },
    {
      "cell_type": "code",
      "metadata": {
        "id": "z8frUR5KR6sT",
        "colab_type": "code",
        "colab": {}
      },
      "source": [
        "if y_train.ndim == 1: y_train = to_categorical(y_train)\n",
        "if y_test.ndim == 1: y_test = to_categorical(y_test)\n",
        "\n",
        "input_shape = X_train.shape[1:]\n",
        "num_classes = y_train.shape[1]"
      ],
      "execution_count": 0,
      "outputs": []
    },
    {
      "cell_type": "code",
      "metadata": {
        "id": "WgXak8wJR-01",
        "colab_type": "code",
        "colab": {}
      },
      "source": [
        "def train_model(model, X_train,y_train, params_fit={}):\n",
        "  model.compile(loss='categorical_crossentropy', optimizer='Adam', metrics=['accuracy'])\n",
        "  \n",
        "  logdir = os.path.join('logs', datetime.datetime.now().strftime('%Y%m%d-%H%M%S'))\n",
        "  tensorboard_callback = tf.keras.callbacks.TensorBoard(logdir, histogram_freq=1)\n",
        "\n",
        "  model.fit(\n",
        "      X_train, \n",
        "      y_train,\n",
        "      batch_size=params_fit.get('batch_size', 128),\n",
        "      epochs=params_fit.get('epochs',5),\n",
        "      verbose=params_fit.get('verbose',1),\n",
        "      validation_data=params_fit.get('validation_data', (X_train,y_train)),\n",
        "      callbacks=[tensorboard_callback]\n",
        "  )\n",
        "  return model\n",
        "\n",
        "def predict(model_trained, X_test, y_test, scoring = accuracy_score):\n",
        "\n",
        "  y_test_norm = np.argmax(y_test, axis = 1)\n",
        "\n",
        "  y_pred_prob = model_trained.predict(X_test)\n",
        "  y_pred = np.argmax(y_pred_prob, axis = 1)\n",
        "\n",
        "  return scoring(y_test_norm,y_pred)\n"
      ],
      "execution_count": 0,
      "outputs": []
    },
    {
      "cell_type": "code",
      "metadata": {
        "id": "-7H_nX5DSBKs",
        "colab_type": "code",
        "colab": {}
      },
      "source": [
        "def get_cnn_v5(input_shape, num_classes):\n",
        "  return Sequential([\n",
        "    Conv2D(filters=32, kernel_size =(3,3), activation='relu', input_shape=input_shape),\n",
        "    Conv2D(filters=32, kernel_size =(3,3), activation='relu', padding = 'same'),\n",
        "    MaxPool2D(),\n",
        "    Dropout(0.3),\n",
        "\n",
        "    Conv2D(filters=64, kernel_size =(3,3), activation='relu', padding = 'same'),\n",
        "    Conv2D(filters=64, kernel_size =(3,3), activation='relu'),\n",
        "    MaxPool2D(),\n",
        "    Dropout(0.3),    \n",
        "    \n",
        "    Conv2D(filters=64, kernel_size =(3,3), activation='relu', padding = 'same'),\n",
        "    Conv2D(filters=64, kernel_size =(3,3), activation='relu'),\n",
        "    MaxPool2D(),\n",
        "    Dropout(0.3),    \n",
        "\n",
        "    Flatten(),\n",
        "\n",
        "    Dense(1024, activation = 'relu'),\n",
        "    Dropout(0.3),\n",
        "\n",
        "    Dense(1024, activation = 'relu'),\n",
        "    Dropout(0.3),\n",
        "\n",
        "    Dense(num_classes, activation = 'softmax')                    \n",
        "  ])\n"
      ],
      "execution_count": 0,
      "outputs": []
    },
    {
      "cell_type": "code",
      "metadata": {
        "id": "L-sf_IyDSnhc",
        "colab_type": "code",
        "outputId": "799d7350-7c98-4c81-d72d-b7df9c8dd385",
        "colab": {
          "base_uri": "https://localhost:8080/",
          "height": 217
        }
      },
      "source": [
        "model = get_cnn_v5(input_shape, num_classes)\n",
        "model_trained = train_model(model, X_train, y_train)\n",
        "predict(model_trained, X_test, y_test)"
      ],
      "execution_count": 23,
      "outputs": [
        {
          "output_type": "stream",
          "text": [
            "Epoch 1/5\n",
            "272/272 [==============================] - 13s 46ms/step - loss: 2.8662 - accuracy: 0.2399 - val_loss: 1.5735 - val_accuracy: 0.4563\n",
            "Epoch 2/5\n",
            "272/272 [==============================] - 12s 45ms/step - loss: 1.3604 - accuracy: 0.5502 - val_loss: 0.5758 - val_accuracy: 0.8128\n",
            "Epoch 3/5\n",
            "272/272 [==============================] - 12s 45ms/step - loss: 0.6906 - accuracy: 0.7717 - val_loss: 0.2033 - val_accuracy: 0.9401\n",
            "Epoch 4/5\n",
            "272/272 [==============================] - 12s 45ms/step - loss: 0.4257 - accuracy: 0.8635 - val_loss: 0.1422 - val_accuracy: 0.9537\n",
            "Epoch 5/5\n",
            "272/272 [==============================] - 12s 45ms/step - loss: 0.2962 - accuracy: 0.9059 - val_loss: 0.0584 - val_accuracy: 0.9831\n"
          ],
          "name": "stdout"
        },
        {
          "output_type": "execute_result",
          "data": {
            "text/plain": [
              "0.9643990929705215"
            ]
          },
          "metadata": {
            "tags": []
          },
          "execution_count": 23
        }
      ]
    },
    {
      "cell_type": "code",
      "metadata": {
        "id": "Cm4KSCyKV6I6",
        "colab_type": "code",
        "colab": {}
      },
      "source": [
        "def get_model(params):\n",
        "  return Sequential([\n",
        "    Conv2D(filters=32, kernel_size =(3,3), activation='relu', input_shape=input_shape),\n",
        "    Conv2D(filters=32, kernel_size =(3,3), activation='relu', padding = 'same'),\n",
        "    MaxPool2D(),\n",
        "    Dropout(params['dropout_cnn_block_one']),\n",
        "\n",
        "    Conv2D(filters=64, kernel_size =(3,3), activation='relu', padding = 'same'),\n",
        "    Conv2D(filters=64, kernel_size =(3,3), activation='relu'),\n",
        "    MaxPool2D(),\n",
        "    Dropout(params['dropout_cnn_block_two']),    \n",
        "    \n",
        "    Conv2D(filters=128, kernel_size =(3,3), activation='relu', padding = 'same'),\n",
        "    Conv2D(filters=128, kernel_size =(3,3), activation='relu'),\n",
        "    MaxPool2D(),\n",
        "    Dropout(params['dropout_cnn_block_three']),    \n",
        "\n",
        "    Flatten(),\n",
        "\n",
        "    Dense(1024, activation = 'relu'),\n",
        "    Dropout(params['dropout_dense_block_one']),\n",
        "\n",
        "    Dense(1024, activation = 'relu'),\n",
        "    Dropout(params['dropout_dense_block_two']),\n",
        "\n",
        "    Dense(num_classes, activation = 'softmax')                    \n",
        "  ])\n"
      ],
      "execution_count": 0,
      "outputs": []
    },
    {
      "cell_type": "code",
      "metadata": {
        "id": "fb4D7DlyVFmR",
        "colab_type": "code",
        "colab": {}
      },
      "source": [
        "def func_obj(params): \n",
        "  model = get_model(params)\n",
        "  model.compile(loss='categorical_crossentropy', optimizer='Adam', metrics=['accuracy'])\n",
        "\n",
        "  model.fit( \n",
        "      X_train, \n",
        "      y_train, \n",
        "      batch_size=int(params.get('batch_size', 128)), \n",
        "      epochs=5, \n",
        "      verbose=0 \n",
        "      ) \n",
        "  score = model.evaluate(X_test,y_test,verbose=0) \n",
        "  accuracy = score[1]\n",
        "  print(params, 'accuracy={}'.format(accuracy))\n",
        "\n",
        "  return {'loss': -accuracy, 'status': STATUS_OK, 'model': model}\n"
      ],
      "execution_count": 0,
      "outputs": []
    },
    {
      "cell_type": "code",
      "metadata": {
        "id": "r_AnoqEJT9CT",
        "colab_type": "code",
        "colab": {
          "base_uri": "https://localhost:8080/",
          "height": 1000
        },
        "outputId": "907db16f-6b5b-430e-ac38-fa7c18ecccd3"
      },
      "source": [
        "space = {\n",
        "    'batch_size': hp.quniform('batch_size', 100, 200, 10),\n",
        "    'dropout_cnn_block_one': hp.uniform('dropout_cnn_block_one', 0.3, 0.5),\n",
        "    'dropout_cnn_block_two': hp.uniform('dropout_cnn_block_two', 0.3, 0.5),\n",
        "    'dropout_cnn_block_three': hp.uniform('dropout_cnn_block_three', 0.3, 0.5),\n",
        "\n",
        "    'dropout_dense_block_one': hp.uniform('dropout_dense_block_one', 0.3, 0.7),\n",
        "    'dropout_dense_block_two': hp.uniform('dropout_dense_block_two', 0.3, 0.7),\n",
        "}\n",
        "\n",
        "best = fmin(\n",
        "    func_obj,\n",
        "    space,\n",
        "    tpe.suggest,\n",
        "    30,\n",
        "    Trials()\n",
        ")"
      ],
      "execution_count": 32,
      "outputs": [
        {
          "output_type": "stream",
          "text": [
            "{'batch_size': 130.0, 'dropout_cnn_block_one': 0.39254324457333445, 'dropout_cnn_block_three': 0.39639616348456885, 'dropout_cnn_block_two': 0.4055659704491641, 'dropout_dense_block_one': 0.3108306313114391, 'dropout_dense_block_two': 0.42630367774598343}\n",
            "accuracy=0.9532879590988159\n",
            "{'batch_size': 170.0, 'dropout_cnn_block_one': 0.3441665320437818, 'dropout_cnn_block_three': 0.46664992741404776, 'dropout_cnn_block_two': 0.4531011076879158, 'dropout_dense_block_one': 0.4837208096194092, 'dropout_dense_block_two': 0.653859051426912}\n",
            "accuracy=0.8285714387893677\n",
            "{'batch_size': 180.0, 'dropout_cnn_block_one': 0.45335551877145447, 'dropout_cnn_block_three': 0.40984492858657595, 'dropout_cnn_block_two': 0.4254940858059959, 'dropout_dense_block_one': 0.41647939312391785, 'dropout_dense_block_two': 0.432955795025468}\n",
            "accuracy=0.9344671368598938\n",
            "{'batch_size': 170.0, 'dropout_cnn_block_one': 0.43827999510011717, 'dropout_cnn_block_three': 0.38831912046271244, 'dropout_cnn_block_two': 0.3303177359676202, 'dropout_dense_block_one': 0.34366145700751183, 'dropout_dense_block_two': 0.4987285548902838}\n",
            "accuracy=0.9317460060119629\n",
            "{'batch_size': 110.0, 'dropout_cnn_block_one': 0.46239437512862186, 'dropout_cnn_block_three': 0.3358380831327962, 'dropout_cnn_block_two': 0.4406713982490216, 'dropout_dense_block_one': 0.3308772415873163, 'dropout_dense_block_two': 0.3999036573033081}\n",
            "accuracy=0.9528344869613647\n",
            "{'batch_size': 190.0, 'dropout_cnn_block_one': 0.4126704184211461, 'dropout_cnn_block_three': 0.36108981670879386, 'dropout_cnn_block_two': 0.4870557260211725, 'dropout_dense_block_one': 0.31750333532990843, 'dropout_dense_block_two': 0.33928553583572674}\n",
            "accuracy=0.9682539701461792\n",
            "{'batch_size': 160.0, 'dropout_cnn_block_one': 0.42047779443171557, 'dropout_cnn_block_three': 0.3534868601217761, 'dropout_cnn_block_two': 0.45848635551656325, 'dropout_dense_block_one': 0.51651241828537, 'dropout_dense_block_two': 0.6876055709272558}\n",
            "accuracy=0.918367326259613\n",
            "{'batch_size': 190.0, 'dropout_cnn_block_one': 0.35060592042049643, 'dropout_cnn_block_three': 0.31330735101993284, 'dropout_cnn_block_two': 0.42625209942142855, 'dropout_dense_block_one': 0.6216995440043996, 'dropout_dense_block_two': 0.5903830562858806}\n",
            "accuracy=0.9258503317832947\n",
            "{'batch_size': 120.0, 'dropout_cnn_block_one': 0.44255901038264517, 'dropout_cnn_block_three': 0.3689692043816007, 'dropout_cnn_block_two': 0.3988505317102161, 'dropout_dense_block_one': 0.568043329909546, 'dropout_dense_block_two': 0.40315894215561254}\n",
            "accuracy=0.9442176818847656\n",
            "{'batch_size': 140.0, 'dropout_cnn_block_one': 0.46630210353924667, 'dropout_cnn_block_three': 0.36591400763001203, 'dropout_cnn_block_two': 0.3012500258125778, 'dropout_dense_block_one': 0.6038687833954648, 'dropout_dense_block_two': 0.6316143674776555}\n",
            "accuracy=0.9181405901908875\n",
            "{'batch_size': 130.0, 'dropout_cnn_block_one': 0.3792210423772806, 'dropout_cnn_block_three': 0.42159181972918897, 'dropout_cnn_block_two': 0.31936297709101696, 'dropout_dense_block_one': 0.6020282613386825, 'dropout_dense_block_two': 0.34743091967785156}\n",
            "accuracy=0.9662131667137146\n",
            "{'batch_size': 170.0, 'dropout_cnn_block_one': 0.4903448187906157, 'dropout_cnn_block_three': 0.3868761211050674, 'dropout_cnn_block_two': 0.4852076133976434, 'dropout_dense_block_one': 0.5064636382242858, 'dropout_dense_block_two': 0.35433586245964566}\n",
            "accuracy=0.9215419292449951\n",
            "{'batch_size': 110.0, 'dropout_cnn_block_one': 0.3848163000508521, 'dropout_cnn_block_three': 0.4212010195702461, 'dropout_cnn_block_two': 0.3952373558218175, 'dropout_dense_block_one': 0.5055683640702582, 'dropout_dense_block_two': 0.618216866377356}\n",
            "accuracy=0.9580498933792114\n",
            "{'batch_size': 160.0, 'dropout_cnn_block_one': 0.3464725711670782, 'dropout_cnn_block_three': 0.42966732745470687, 'dropout_cnn_block_two': 0.4777691761362051, 'dropout_dense_block_one': 0.5929698534342316, 'dropout_dense_block_two': 0.5448528061784561}\n",
            "accuracy=0.9015873074531555\n",
            "{'batch_size': 160.0, 'dropout_cnn_block_one': 0.48171571866744395, 'dropout_cnn_block_three': 0.3767964447832407, 'dropout_cnn_block_two': 0.40493372118326976, 'dropout_dense_block_one': 0.43111097362237594, 'dropout_dense_block_two': 0.4001896819736899}\n",
            "accuracy=0.9412698149681091\n",
            "{'batch_size': 140.0, 'dropout_cnn_block_one': 0.442236930856888, 'dropout_cnn_block_three': 0.34087390804763146, 'dropout_cnn_block_two': 0.44907653466755665, 'dropout_dense_block_one': 0.39683357182765655, 'dropout_dense_block_two': 0.5486644439538226}\n",
            "accuracy=0.8927437663078308\n",
            "{'batch_size': 120.0, 'dropout_cnn_block_one': 0.3478417111539419, 'dropout_cnn_block_three': 0.4565013565111554, 'dropout_cnn_block_two': 0.45410958119906675, 'dropout_dense_block_one': 0.6564929069502055, 'dropout_dense_block_two': 0.37556706746060625}\n",
            "accuracy=0.8927437663078308\n",
            "{'batch_size': 130.0, 'dropout_cnn_block_one': 0.35330337871759043, 'dropout_cnn_block_three': 0.4645400526316883, 'dropout_cnn_block_two': 0.3222763097858589, 'dropout_dense_block_one': 0.6685681495501018, 'dropout_dense_block_two': 0.6510333585324146}\n",
            "accuracy=0.9317460060119629\n",
            "{'batch_size': 190.0, 'dropout_cnn_block_one': 0.4006206218616026, 'dropout_cnn_block_three': 0.4561833519353726, 'dropout_cnn_block_two': 0.3113633134185859, 'dropout_dense_block_one': 0.3484697194723042, 'dropout_dense_block_two': 0.42135519459105536}\n",
            "accuracy=0.9442176818847656\n",
            "{'batch_size': 110.0, 'dropout_cnn_block_one': 0.34239719388872114, 'dropout_cnn_block_three': 0.47390740556661215, 'dropout_cnn_block_two': 0.4483014172519157, 'dropout_dense_block_one': 0.4240691648914778, 'dropout_dense_block_two': 0.6546489628653218}\n",
            "accuracy=0.9460317492485046\n",
            "{'batch_size': 150.0, 'dropout_cnn_block_one': 0.3154001533323886, 'dropout_cnn_block_three': 0.31622848667202813, 'dropout_cnn_block_two': 0.340123694470004, 'dropout_dense_block_one': 0.553241562749029, 'dropout_dense_block_two': 0.30805124164941533}\n",
            "accuracy=0.9643990993499756\n",
            "{'batch_size': 140.0, 'dropout_cnn_block_one': 0.3699687934820464, 'dropout_cnn_block_three': 0.49804919298282896, 'dropout_cnn_block_two': 0.36024413266321464, 'dropout_dense_block_one': 0.6314861600866016, 'dropout_dense_block_two': 0.3223307519062344}\n",
            "accuracy=0.942630410194397\n",
            "{'batch_size': 200.0, 'dropout_cnn_block_one': 0.4143108587912687, 'dropout_cnn_block_three': 0.4290961824906907, 'dropout_cnn_block_two': 0.3730021670591658, 'dropout_dense_block_one': 0.6895836685581813, 'dropout_dense_block_two': 0.48583859318890477}\n",
            "accuracy=0.8496598601341248\n",
            "{'batch_size': 200.0, 'dropout_cnn_block_one': 0.3013882977844342, 'dropout_cnn_block_three': 0.44128689341559696, 'dropout_cnn_block_two': 0.49745873935815443, 'dropout_dense_block_one': 0.4731191273636331, 'dropout_dense_block_two': 0.3390747574522968}\n",
            "accuracy=0.9292517304420471\n",
            "{'batch_size': 100.0, 'dropout_cnn_block_one': 0.37187829938038186, 'dropout_cnn_block_three': 0.4096095840777663, 'dropout_cnn_block_two': 0.3710572450581602, 'dropout_dense_block_one': 0.6984060773904128, 'dropout_dense_block_two': 0.4586222291817635}\n",
            "accuracy=0.9514739513397217\n",
            "{'batch_size': 150.0, 'dropout_cnn_block_one': 0.4165822189312003, 'dropout_cnn_block_three': 0.33190555671954197, 'dropout_cnn_block_two': 0.3522802830149647, 'dropout_dense_block_one': 0.5443102838542099, 'dropout_dense_block_two': 0.30828058864056346}\n",
            "accuracy=0.9585034251213074\n",
            "{'batch_size': 130.0, 'dropout_cnn_block_one': 0.3176755056915784, 'dropout_cnn_block_three': 0.3559298240039538, 'dropout_cnn_block_two': 0.3838579266983427, 'dropout_dense_block_one': 0.46199766454367486, 'dropout_dense_block_two': 0.3614166347392652}\n",
            "accuracy=0.9088435173034668\n",
            "{'batch_size': 120.0, 'dropout_cnn_block_one': 0.37210330022560556, 'dropout_cnn_block_three': 0.48182206837151653, 'dropout_cnn_block_two': 0.4775771307105574, 'dropout_dense_block_one': 0.37099110850000866, 'dropout_dense_block_two': 0.5327149035209855}\n",
            "accuracy=0.9326530694961548\n",
            "{'batch_size': 190.0, 'dropout_cnn_block_one': 0.39682275300279957, 'dropout_cnn_block_three': 0.39434630215255784, 'dropout_cnn_block_two': 0.30153332638302927, 'dropout_dense_block_one': 0.30655741147817395, 'dropout_dense_block_two': 0.45297488097853}\n",
            "accuracy=0.9655328989028931\n",
            "{'batch_size': 100.0, 'dropout_cnn_block_one': 0.42533927580856234, 'dropout_cnn_block_three': 0.30374314773348154, 'dropout_cnn_block_two': 0.4213300874794219, 'dropout_dense_block_one': 0.5813796220722598, 'dropout_dense_block_two': 0.3351884212930393}\n",
            "accuracy=0.9197278618812561\n",
            "100%|██████████| 30/30 [22:39<00:00, 45.31s/it, best loss: -0.9682539701461792]\n"
          ],
          "name": "stdout"
        }
      ]
    },
    {
      "cell_type": "code",
      "metadata": {
        "id": "hvX1Hrj3Uc2L",
        "colab_type": "code",
        "colab": {}
      },
      "source": [
        ""
      ],
      "execution_count": 0,
      "outputs": []
    }
  ]
}